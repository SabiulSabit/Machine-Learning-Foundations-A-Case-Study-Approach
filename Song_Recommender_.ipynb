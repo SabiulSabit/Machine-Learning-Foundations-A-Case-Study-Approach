{
  "nbformat": 4,
  "nbformat_minor": 0,
  "metadata": {
    "colab": {
      "name": "Song Recommender .ipynb",
      "provenance": [],
      "mount_file_id": "1sficV2Y7cZVbya2OEkkwvGhqZzVLZ8n6",
      "authorship_tag": "ABX9TyMTVTCS7eL3RNeXjYkLOUKX",
      "include_colab_link": true
    },
    "kernelspec": {
      "name": "python3",
      "display_name": "Python 3"
    }
  },
  "cells": [
    {
      "cell_type": "markdown",
      "metadata": {
        "id": "view-in-github",
        "colab_type": "text"
      },
      "source": [
        "<a href=\"https://colab.research.google.com/github/SabiulSabit/Machine-Learning-Foundations-A-Case-Study-Approach/blob/master/Song_Recommender_.ipynb\" target=\"_parent\"><img src=\"https://colab.research.google.com/assets/colab-badge.svg\" alt=\"Open In Colab\"/></a>"
      ]
    },
    {
      "cell_type": "code",
      "metadata": {
        "id": "878sy50AII6d",
        "colab_type": "code",
        "colab": {}
      },
      "source": [
        "!pip install turicreate\n",
        "import turicreate as tr"
      ],
      "execution_count": null,
      "outputs": []
    },
    {
      "cell_type": "markdown",
      "metadata": {
        "id": "JOwSfMxFSRMc",
        "colab_type": "text"
      },
      "source": [
        "## **Load Song Data**"
      ]
    },
    {
      "cell_type": "code",
      "metadata": {
        "id": "lP0wyUvzSUnh",
        "colab_type": "code",
        "colab": {}
      },
      "source": [
        "songData = tr.SFrame(\"/content/drive/My Drive/Course ML/song_data.sframe\") "
      ],
      "execution_count": 2,
      "outputs": []
    },
    {
      "cell_type": "markdown",
      "metadata": {
        "id": "TP_A6CBcSioK",
        "colab_type": "text"
      },
      "source": [
        "## **Explore Data**"
      ]
    },
    {
      "cell_type": "code",
      "metadata": {
        "id": "1GtVrn32Smya",
        "colab_type": "code",
        "colab": {}
      },
      "source": [
        "songData.head()"
      ],
      "execution_count": null,
      "outputs": []
    },
    {
      "cell_type": "code",
      "metadata": {
        "id": "ZKbleYsWTGoS",
        "colab_type": "code",
        "colab": {}
      },
      "source": [
        "songData['song'].show()"
      ],
      "execution_count": null,
      "outputs": []
    },
    {
      "cell_type": "markdown",
      "metadata": {
        "id": "DYNYeba1UEsK",
        "colab_type": "text"
      },
      "source": [
        "## **Count Number of User**"
      ]
    },
    {
      "cell_type": "code",
      "metadata": {
        "id": "J2aTdvS0UIo6",
        "colab_type": "code",
        "colab": {}
      },
      "source": [
        "users = songData['user_id'].unique()\n",
        "len(users)"
      ],
      "execution_count": null,
      "outputs": []
    }
  ]
}