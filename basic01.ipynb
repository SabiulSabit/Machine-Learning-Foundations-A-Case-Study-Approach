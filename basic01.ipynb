{
  "nbformat": 4,
  "nbformat_minor": 0,
  "metadata": {
    "colab": {
      "name": "basic01.ipynb",
      "provenance": [],
      "collapsed_sections": [],
      "authorship_tag": "ABX9TyMB1MfPme3aWqHsIURucHT7",
      "include_colab_link": true
    },
    "kernelspec": {
      "name": "python3",
      "display_name": "Python 3"
    }
  },
  "cells": [
    {
      "cell_type": "markdown",
      "metadata": {
        "id": "view-in-github",
        "colab_type": "text"
      },
      "source": [
        "<a href=\"https://colab.research.google.com/github/SabiulSabit/Machine-Learning-Foundations-A-Case-Study-Approach/blob/master/basic01.ipynb\" target=\"_parent\"><img src=\"https://colab.research.google.com/assets/colab-badge.svg\" alt=\"Open In Colab\"/></a>"
      ]
    },
    {
      "cell_type": "markdown",
      "metadata": {
        "id": "t7oFQWke4d0K",
        "colab_type": "text"
      },
      "source": [
        "# **Basic Use of Python** \n",
        "\n",
        "---\n",
        "\n"
      ]
    },
    {
      "cell_type": "code",
      "metadata": {
        "id": "nP2Rfy4x1HaL",
        "colab_type": "code",
        "colab": {}
      },
      "source": [
        "print(\"Hello\")\n",
        "print(\"This is sabit\")"
      ],
      "execution_count": null,
      "outputs": []
    },
    {
      "cell_type": "markdown",
      "metadata": {
        "id": "yKbo6y8d6EWK",
        "colab_type": "text"
      },
      "source": [
        "\n",
        "## **Variables**"
      ]
    },
    {
      "cell_type": "code",
      "metadata": {
        "id": "7eJ56xhz5XP4",
        "colab_type": "code",
        "colab": {}
      },
      "source": [
        "i=4 #integer\n",
        "f=4.1\n",
        "s=\"Sabit\"\n",
        "type(i)\n",
        "type(f)"
      ],
      "execution_count": null,
      "outputs": []
    },
    {
      "cell_type": "markdown",
      "metadata": {
        "id": "XDDXkwpv6dkN",
        "colab_type": "text"
      },
      "source": [
        "## **Advanced types**"
      ]
    },
    {
      "cell_type": "code",
      "metadata": {
        "id": "NfuHpH2C6mxj",
        "colab_type": "code",
        "colab": {}
      },
      "source": [
        "l = [1,2,3] #list\n",
        "print(l)"
      ],
      "execution_count": null,
      "outputs": []
    },
    {
      "cell_type": "code",
      "metadata": {
        "id": "J1DrRHSf6wEy",
        "colab_type": "code",
        "colab": {}
      },
      "source": [
        "d ={\"a\":1,\"b\": 2.4, \"c\": \"sa\"} #disctionary\n",
        "print(d)\n",
        "print(d['a'])"
      ],
      "execution_count": null,
      "outputs": []
    },
    {
      "cell_type": "markdown",
      "metadata": {
        "id": "CXOBfkix7OJm",
        "colab_type": "text"
      },
      "source": [
        "##**Advance Printing**"
      ]
    },
    {
      "cell_type": "code",
      "metadata": {
        "id": "dvONPBm07aDa",
        "colab_type": "code",
        "colab": {}
      },
      "source": [
        "print(\"Our Float value is %s. Our int value is %s\"%(f,i))"
      ],
      "execution_count": null,
      "outputs": []
    },
    {
      "cell_type": "markdown",
      "metadata": {
        "id": "vAx2Kf6A8E0S",
        "colab_type": "text"
      },
      "source": [
        "## **Conditional Statemens**"
      ]
    },
    {
      "cell_type": "code",
      "metadata": {
        "id": "6NlJSeLf8ixu",
        "colab_type": "code",
        "colab": {}
      },
      "source": [
        "if i==1 and f>4:\n",
        "  print(\"The value of i is 1 and f is greater then 4\")\n",
        "elif i>4 or f>4:\n",
        "  print(\"i and f are both grater then 4\")\n",
        "else:\n",
        "  print(\"Not in condition\")     "
      ],
      "execution_count": null,
      "outputs": []
    },
    {
      "cell_type": "markdown",
      "metadata": {
        "id": "khJFU1gV9nJE",
        "colab_type": "text"
      },
      "source": [
        "## **Loops**"
      ]
    },
    {
      "cell_type": "code",
      "metadata": {
        "id": "BQBNjDa_9p3q",
        "colab_type": "code",
        "colab": {}
      },
      "source": [
        "print(l)\n",
        "for el in l:\n",
        "  print(el)\n",
        "\n",
        "counter = 0\n",
        "while counter < 10:\n",
        "  print(counter)\n",
        "  counter += 1"
      ],
      "execution_count": null,
      "outputs": []
    },
    {
      "cell_type": "markdown",
      "metadata": {
        "id": "cVrBTsg6Mdyk",
        "colab_type": "text"
      },
      "source": [
        "## **Function**"
      ]
    },
    {
      "cell_type": "code",
      "metadata": {
        "id": "dGPqq0QuMkbb",
        "colab_type": "code",
        "colab": {}
      },
      "source": [
        "def fun(x):\n",
        "  y = x+2\n",
        "  return y \n",
        "\n",
        "fun(5)  \n"
      ],
      "execution_count": null,
      "outputs": []
    },
    {
      "cell_type": "code",
      "metadata": {
        "id": "AH6WILGfNYS8",
        "colab_type": "code",
        "colab": {}
      },
      "source": [
        "#lambda function\n",
        "\n",
        "square = lambda x: x*x\n",
        "square(3)"
      ],
      "execution_count": null,
      "outputs": []
    }
  ]
}