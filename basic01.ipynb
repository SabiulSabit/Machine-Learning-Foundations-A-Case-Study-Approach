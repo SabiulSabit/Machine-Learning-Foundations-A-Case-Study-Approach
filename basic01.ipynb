{
  "nbformat": 4,
  "nbformat_minor": 0,
  "metadata": {
    "colab": {
      "name": "basic01.ipynb",
      "provenance": [],
      "collapsed_sections": [],
      "authorship_tag": "ABX9TyOkE7yIxe9rnTX0E9s77BGd",
      "include_colab_link": true
    },
    "kernelspec": {
      "name": "python3",
      "display_name": "Python 3"
    }
  },
  "cells": [
    {
      "cell_type": "markdown",
      "metadata": {
        "id": "view-in-github",
        "colab_type": "text"
      },
      "source": [
        "<a href=\"https://colab.research.google.com/github/SabiulSabit/Machine-Learning-Foundations-A-Case-Study-Approach/blob/master/basic01.ipynb\" target=\"_parent\"><img src=\"https://colab.research.google.com/assets/colab-badge.svg\" alt=\"Open In Colab\"/></a>"
      ]
    },
    {
      "cell_type": "markdown",
      "metadata": {
        "id": "t7oFQWke4d0K",
        "colab_type": "text"
      },
      "source": [
        "Start a new ML course. :)"
      ]
    },
    {
      "cell_type": "code",
      "metadata": {
        "id": "nP2Rfy4x1HaL",
        "colab_type": "code",
        "colab": {}
      },
      "source": [
        "print(\"Hello\")\n",
        "print(\"This is sabit\")"
      ],
      "execution_count": null,
      "outputs": []
    },
    {
      "cell_type": "markdown",
      "metadata": {
        "id": "yKbo6y8d6EWK",
        "colab_type": "text"
      },
      "source": [
        "\n",
        "## **Variables**"
      ]
    },
    {
      "cell_type": "code",
      "metadata": {
        "id": "7eJ56xhz5XP4",
        "colab_type": "code",
        "colab": {
          "base_uri": "https://localhost:8080/",
          "height": 34
        },
        "outputId": "7bbd0129-49f3-4424-b9c2-ce74954ffc2b"
      },
      "source": [
        "i=4 #integer\n",
        "f=4.1\n",
        "s=\"Sabit\"\n",
        "type(i)\n",
        "type(f)"
      ],
      "execution_count": 17,
      "outputs": [
        {
          "output_type": "execute_result",
          "data": {
            "text/plain": [
              "float"
            ]
          },
          "metadata": {
            "tags": []
          },
          "execution_count": 17
        }
      ]
    },
    {
      "cell_type": "markdown",
      "metadata": {
        "id": "XDDXkwpv6dkN",
        "colab_type": "text"
      },
      "source": [
        "## **Advanced types**"
      ]
    },
    {
      "cell_type": "code",
      "metadata": {
        "id": "NfuHpH2C6mxj",
        "colab_type": "code",
        "colab": {
          "base_uri": "https://localhost:8080/",
          "height": 34
        },
        "outputId": "5212f20a-9ad7-46c7-b8a3-86ed414da4d8"
      },
      "source": [
        "l = [1,2,3] #list\n",
        "print(l)"
      ],
      "execution_count": 10,
      "outputs": [
        {
          "output_type": "stream",
          "text": [
            "[1, 2, 3]\n"
          ],
          "name": "stdout"
        }
      ]
    },
    {
      "cell_type": "code",
      "metadata": {
        "id": "J1DrRHSf6wEy",
        "colab_type": "code",
        "colab": {
          "base_uri": "https://localhost:8080/",
          "height": 51
        },
        "outputId": "c4ede916-9d7d-4ff1-b89f-66e2d19f027b"
      },
      "source": [
        "d ={\"a\":1,\"b\": 2.4, \"c\": \"sa\"} #disctionary\n",
        "print(d)\n",
        "print(d['a'])"
      ],
      "execution_count": 12,
      "outputs": [
        {
          "output_type": "stream",
          "text": [
            "{'a': 1, 'b': 2.4, 'c': 'sa'}\n",
            "1\n"
          ],
          "name": "stdout"
        }
      ]
    },
    {
      "cell_type": "markdown",
      "metadata": {
        "id": "CXOBfkix7OJm",
        "colab_type": "text"
      },
      "source": [
        "##**Advance Printing**"
      ]
    },
    {
      "cell_type": "code",
      "metadata": {
        "id": "dvONPBm07aDa",
        "colab_type": "code",
        "colab": {
          "base_uri": "https://localhost:8080/",
          "height": 34
        },
        "outputId": "7e060a0e-f901-4a21-c77b-d10ee2aa6dd4"
      },
      "source": [
        "print(\"Our Float value is %s. Our int value is %s\"%(f,i))"
      ],
      "execution_count": 13,
      "outputs": [
        {
          "output_type": "stream",
          "text": [
            "Our Float value is 4.0. Our int value is 4\n"
          ],
          "name": "stdout"
        }
      ]
    },
    {
      "cell_type": "markdown",
      "metadata": {
        "id": "vAx2Kf6A8E0S",
        "colab_type": "text"
      },
      "source": [
        "## **Conditional Statemens**"
      ]
    },
    {
      "cell_type": "code",
      "metadata": {
        "id": "6NlJSeLf8ixu",
        "colab_type": "code",
        "colab": {
          "base_uri": "https://localhost:8080/",
          "height": 34
        },
        "outputId": "fae7cebe-9cea-46e5-d351-e318d11d5990"
      },
      "source": [
        "if i==1 and f>4:\n",
        "  print(\"The value of i is 1 and f is greater then 4\")\n",
        "elif i>4 or f>4:\n",
        "  print(\"i and f are both grater then 4\")\n",
        "else:\n",
        "  print(\"Not in condition\")     "
      ],
      "execution_count": 18,
      "outputs": [
        {
          "output_type": "stream",
          "text": [
            "i and f are both grater then 4\n"
          ],
          "name": "stdout"
        }
      ]
    },
    {
      "cell_type": "markdown",
      "metadata": {
        "id": "khJFU1gV9nJE",
        "colab_type": "text"
      },
      "source": [
        "## **Loops**"
      ]
    },
    {
      "cell_type": "code",
      "metadata": {
        "id": "BQBNjDa_9p3q",
        "colab_type": "code",
        "colab": {
          "base_uri": "https://localhost:8080/",
          "height": 255
        },
        "outputId": "36088103-06bd-43a7-ac10-543c7653ea84"
      },
      "source": [
        "print(l)\n",
        "for el in l:\n",
        "  print(el)\n",
        "\n",
        "counter = 0\n",
        "while counter < 10:\n",
        "  print(counter)\n",
        "  counter += 1"
      ],
      "execution_count": 22,
      "outputs": [
        {
          "output_type": "stream",
          "text": [
            "[1, 2, 3]\n",
            "1\n",
            "2\n",
            "3\n",
            "0\n",
            "1\n",
            "2\n",
            "3\n",
            "4\n",
            "5\n",
            "6\n",
            "7\n",
            "8\n",
            "9\n"
          ],
          "name": "stdout"
        }
      ]
    }
  ]
}