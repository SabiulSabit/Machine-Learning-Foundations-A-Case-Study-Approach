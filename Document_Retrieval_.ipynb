{
  "nbformat": 4,
  "nbformat_minor": 0,
  "metadata": {
    "colab": {
      "name": "Document Retrieval .ipynb",
      "provenance": [],
      "toc_visible": true,
      "mount_file_id": "19nHfRMK9JWXodSHga3E9rygh1NzQFfMK",
      "authorship_tag": "ABX9TyMvcxsCYjfAlXs7zL4mvtwU",
      "include_colab_link": true
    },
    "kernelspec": {
      "name": "python3",
      "display_name": "Python 3"
    }
  },
  "cells": [
    {
      "cell_type": "markdown",
      "metadata": {
        "id": "view-in-github",
        "colab_type": "text"
      },
      "source": [
        "<a href=\"https://colab.research.google.com/github/SabiulSabit/Machine-Learning-Foundations-A-Case-Study-Approach/blob/master/Document_Retrieval_.ipynb\" target=\"_parent\"><img src=\"https://colab.research.google.com/assets/colab-badge.svg\" alt=\"Open In Colab\"/></a>"
      ]
    },
    {
      "cell_type": "code",
      "metadata": {
        "id": "SrIQ8x9ADKXQ",
        "colab_type": "code",
        "colab": {}
      },
      "source": [
        "!pip install turicreate\n",
        "import turicreate as tr"
      ],
      "execution_count": null,
      "outputs": []
    },
    {
      "cell_type": "markdown",
      "metadata": {
        "id": "QQkAu8rkGW0-",
        "colab_type": "text"
      },
      "source": [
        "## **Load some text data - from wiki**"
      ]
    },
    {
      "cell_type": "code",
      "metadata": {
        "id": "oZ9X4sFgHLMr",
        "colab_type": "code",
        "colab": {}
      },
      "source": [
        "people = tr.SFrame('/content/drive/My Drive/Course ML/people_wiki.sframe')"
      ],
      "execution_count": null,
      "outputs": []
    },
    {
      "cell_type": "code",
      "metadata": {
        "id": "AociawDiH2xf",
        "colab_type": "code",
        "colab": {}
      },
      "source": [
        "people.head()"
      ],
      "execution_count": null,
      "outputs": []
    },
    {
      "cell_type": "markdown",
      "metadata": {
        "id": "D3Cj2a5yIa6C",
        "colab_type": "text"
      },
      "source": [
        "## **Explore the dataset**"
      ]
    },
    {
      "cell_type": "code",
      "metadata": {
        "id": "yPvIxIonKvzl",
        "colab_type": "code",
        "colab": {}
      },
      "source": [
        "obama =  people[people['name']==\"Barack Obama\"]"
      ],
      "execution_count": 8,
      "outputs": []
    }
  ]
}