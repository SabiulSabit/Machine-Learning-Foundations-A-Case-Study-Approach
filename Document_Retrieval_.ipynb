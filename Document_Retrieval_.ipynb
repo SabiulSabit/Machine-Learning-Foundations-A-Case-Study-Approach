{
  "nbformat": 4,
  "nbformat_minor": 0,
  "metadata": {
    "colab": {
      "name": "Document Retrieval .ipynb",
      "provenance": [],
      "toc_visible": true,
      "mount_file_id": "19nHfRMK9JWXodSHga3E9rygh1NzQFfMK",
      "authorship_tag": "ABX9TyPnhgJ6kJkZ5RGBa1bOHwim",
      "include_colab_link": true
    },
    "kernelspec": {
      "name": "python3",
      "display_name": "Python 3"
    }
  },
  "cells": [
    {
      "cell_type": "markdown",
      "metadata": {
        "id": "view-in-github",
        "colab_type": "text"
      },
      "source": [
        "<a href=\"https://colab.research.google.com/github/SabiulSabit/Machine-Learning-Foundations-A-Case-Study-Approach/blob/master/Document_Retrieval_.ipynb\" target=\"_parent\"><img src=\"https://colab.research.google.com/assets/colab-badge.svg\" alt=\"Open In Colab\"/></a>"
      ]
    },
    {
      "cell_type": "code",
      "metadata": {
        "id": "SrIQ8x9ADKXQ",
        "colab_type": "code",
        "colab": {}
      },
      "source": [
        "!pip install turicreate\n",
        "import turicreate as tr"
      ],
      "execution_count": null,
      "outputs": []
    },
    {
      "cell_type": "markdown",
      "metadata": {
        "id": "QQkAu8rkGW0-",
        "colab_type": "text"
      },
      "source": [
        "## **Load some text data - from wiki**"
      ]
    },
    {
      "cell_type": "code",
      "metadata": {
        "id": "oZ9X4sFgHLMr",
        "colab_type": "code",
        "colab": {}
      },
      "source": [
        "people = tr.SFrame('/content/drive/My Drive/Course ML/people_wiki.sframe')"
      ],
      "execution_count": 3,
      "outputs": []
    },
    {
      "cell_type": "code",
      "metadata": {
        "id": "AociawDiH2xf",
        "colab_type": "code",
        "colab": {}
      },
      "source": [
        "people.head()"
      ],
      "execution_count": null,
      "outputs": []
    },
    {
      "cell_type": "markdown",
      "metadata": {
        "id": "D3Cj2a5yIa6C",
        "colab_type": "text"
      },
      "source": [
        "## **Explore the dataset**"
      ]
    },
    {
      "cell_type": "code",
      "metadata": {
        "id": "yPvIxIonKvzl",
        "colab_type": "code",
        "colab": {}
      },
      "source": [
        "obama =  people[people['name']==\"Barack Obama\"]"
      ],
      "execution_count": 4,
      "outputs": []
    },
    {
      "cell_type": "code",
      "metadata": {
        "id": "1Gbg7_HRLWpj",
        "colab_type": "code",
        "colab": {}
      },
      "source": [
        "obama['text']"
      ],
      "execution_count": null,
      "outputs": []
    },
    {
      "cell_type": "markdown",
      "metadata": {
        "id": "DApf4VsYhzBb",
        "colab_type": "text"
      },
      "source": [
        "## **Get the word count for Obama**"
      ]
    },
    {
      "cell_type": "code",
      "metadata": {
        "id": "UEeXzj6jh4vE",
        "colab_type": "code",
        "colab": {}
      },
      "source": [
        "obama['word_count'] =  tr.text_analytics.count_words(obama['text'])"
      ],
      "execution_count": 6,
      "outputs": []
    },
    {
      "cell_type": "code",
      "metadata": {
        "id": "37L5LckGiOPs",
        "colab_type": "code",
        "colab": {}
      },
      "source": [
        "print(obama['word_count'])"
      ],
      "execution_count": null,
      "outputs": []
    },
    {
      "cell_type": "markdown",
      "metadata": {
        "id": "hhHIoqs09cRR",
        "colab_type": "text"
      },
      "source": [
        "## **Sort Word count for Obama**"
      ]
    },
    {
      "cell_type": "code",
      "metadata": {
        "id": "82jYVCdi9j0Y",
        "colab_type": "code",
        "colab": {}
      },
      "source": [
        "obama_wordCountTable =  obama[['word_count']].stack('word_count', new_column_name=['word', 'count'])"
      ],
      "execution_count": 13,
      "outputs": []
    },
    {
      "cell_type": "code",
      "metadata": {
        "id": "M9FL3jyQ-kOJ",
        "colab_type": "code",
        "colab": {}
      },
      "source": [
        "obama_wordCountTable.head()"
      ],
      "execution_count": null,
      "outputs": []
    },
    {
      "cell_type": "code",
      "metadata": {
        "id": "s5hUUtPe-q8R",
        "colab_type": "code",
        "colab": {}
      },
      "source": [
        "obama_wordCountTable.sort('count',ascending=False)"
      ],
      "execution_count": null,
      "outputs": []
    },
    {
      "cell_type": "markdown",
      "metadata": {
        "id": "74DQYRq2_6Jt",
        "colab_type": "text"
      },
      "source": [
        "## **Compute TF-IDF for the corpus**"
      ]
    },
    {
      "cell_type": "code",
      "metadata": {
        "id": "YmEAJrZwADd4",
        "colab_type": "code",
        "colab": {}
      },
      "source": [
        "people['word_count'] = tr.text_analytics.count_words(people['text'])\n",
        "people.head()"
      ],
      "execution_count": null,
      "outputs": []
    },
    {
      "cell_type": "code",
      "metadata": {
        "id": "-mIYAr50A9D5",
        "colab_type": "code",
        "colab": {}
      },
      "source": [
        "tfidf =  tr.text_analytics.tf_idf(people['word_count'])\n",
        "tfidf"
      ],
      "execution_count": null,
      "outputs": []
    },
    {
      "cell_type": "code",
      "metadata": {
        "id": "PWMC08xpBUa3",
        "colab_type": "code",
        "colab": {}
      },
      "source": [
        "people['tfidf'] = tfidf"
      ],
      "execution_count": 20,
      "outputs": []
    },
    {
      "cell_type": "markdown",
      "metadata": {
        "id": "qfHpsIntBjOR",
        "colab_type": "text"
      },
      "source": [
        "## **Examine tje TF-IDF for the Obama Article**"
      ]
    },
    {
      "cell_type": "code",
      "metadata": {
        "id": "EkIAM-KiBr8q",
        "colab_type": "code",
        "colab": {}
      },
      "source": [
        "obama =  people[people['name']==\"Barack Obama\"]\n",
        "print(obama)"
      ],
      "execution_count": null,
      "outputs": []
    },
    {
      "cell_type": "code",
      "metadata": {
        "id": "fKFmrjr5Bw1n",
        "colab_type": "code",
        "colab": {}
      },
      "source": [
        "obama[['tfidf']].stack('tfidf', new_column_name=['word', 'tfidf']).sort('tfidf',ascending=False)"
      ],
      "execution_count": null,
      "outputs": []
    },
    {
      "cell_type": "markdown",
      "metadata": {
        "id": "1t7hgA68Em-E",
        "colab_type": "text"
      },
      "source": [
        "## **Manually Compute distances between a few people**"
      ]
    },
    {
      "cell_type": "code",
      "metadata": {
        "id": "mwAP64XpEwAO",
        "colab_type": "code",
        "colab": {}
      },
      "source": [
        "clinton = people[people['name']==\"Bill Clinton\"]"
      ],
      "execution_count": 26,
      "outputs": []
    },
    {
      "cell_type": "code",
      "metadata": {
        "id": "M2yF-NX-E7_e",
        "colab_type": "code",
        "colab": {}
      },
      "source": [
        "beckham = people[people['name']==\"David Beckham\"]"
      ],
      "execution_count": 27,
      "outputs": []
    },
    {
      "cell_type": "markdown",
      "metadata": {
        "id": "t_J7iUetFHEp",
        "colab_type": "text"
      },
      "source": [
        "## **Is Obama Closser to Clinton or Backham?**"
      ]
    },
    {
      "cell_type": "code",
      "metadata": {
        "id": "ztxRIa99FFjy",
        "colab_type": "code",
        "colab": {
          "base_uri": "https://localhost:8080/",
          "height": 34
        },
        "outputId": "65a653d2-a352-49cd-fdf1-b166632a2de4"
      },
      "source": [
        "tr.distances.cosine(obama['tfidf'][0],clinton['tfidf'][0])"
      ],
      "execution_count": 28,
      "outputs": [
        {
          "output_type": "execute_result",
          "data": {
            "text/plain": [
              "0.8339854936884277"
            ]
          },
          "metadata": {
            "tags": []
          },
          "execution_count": 28
        }
      ]
    },
    {
      "cell_type": "code",
      "metadata": {
        "id": "7I1KboudGA6j",
        "colab_type": "code",
        "colab": {
          "base_uri": "https://localhost:8080/",
          "height": 34
        },
        "outputId": "b47af019-e68d-431a-c1a2-dd0b50e55c27"
      },
      "source": [
        "tr.distances.cosine(obama['tfidf'][0],beckham['tfidf'][0])"
      ],
      "execution_count": 29,
      "outputs": [
        {
          "output_type": "execute_result",
          "data": {
            "text/plain": [
              "0.9791305844747478"
            ]
          },
          "metadata": {
            "tags": []
          },
          "execution_count": 29
        }
      ]
    },
    {
      "cell_type": "markdown",
      "metadata": {
        "id": "Jghj1yD2G1Qj",
        "colab_type": "text"
      },
      "source": [
        "## **Build a nearest model for document retrieval**"
      ]
    },
    {
      "cell_type": "code",
      "metadata": {
        "id": "8e6Di7nTHBbV",
        "colab_type": "code",
        "colab": {}
      },
      "source": [
        "knn_model =  tr.nearest_neighbors.create(people,features=['tfidf'],label='name')"
      ],
      "execution_count": null,
      "outputs": []
    },
    {
      "cell_type": "markdown",
      "metadata": {
        "id": "sSOVqai6HXFc",
        "colab_type": "text"
      },
      "source": [
        "## **Applying the Nearest-neighbors model for retrieval**"
      ]
    },
    {
      "cell_type": "markdown",
      "metadata": {
        "id": "fA0gjGiAHqHG",
        "colab_type": "text"
      },
      "source": [
        "### Who is colosest to Obama?"
      ]
    },
    {
      "cell_type": "code",
      "metadata": {
        "id": "ZPTKQZklHuSP",
        "colab_type": "code",
        "colab": {}
      },
      "source": [
        "knn_model.query(obama)"
      ],
      "execution_count": null,
      "outputs": []
    },
    {
      "cell_type": "markdown",
      "metadata": {
        "id": "GxpJhlQfIKHl",
        "colab_type": "text"
      },
      "source": [
        "## **Other Examples**"
      ]
    },
    {
      "cell_type": "code",
      "metadata": {
        "id": "cIaZh4ZnINrd",
        "colab_type": "code",
        "colab": {}
      },
      "source": [
        "swift = people[people['name']==\"Taylor Swift\"]"
      ],
      "execution_count": 32,
      "outputs": []
    },
    {
      "cell_type": "code",
      "metadata": {
        "id": "k-IxEJA7IWwY",
        "colab_type": "code",
        "colab": {}
      },
      "source": [
        "knn_model.query(swift)"
      ],
      "execution_count": null,
      "outputs": []
    },
    {
      "cell_type": "code",
      "metadata": {
        "id": "m4-QHZUzIgdm",
        "colab_type": "code",
        "colab": {}
      },
      "source": [
        "jolie = people[people['name']==\"Angelina Jolie\"]"
      ],
      "execution_count": 34,
      "outputs": []
    },
    {
      "cell_type": "code",
      "metadata": {
        "id": "o6Kono5lImSl",
        "colab_type": "code",
        "colab": {}
      },
      "source": [
        "knn_model.query(jolie)"
      ],
      "execution_count": null,
      "outputs": []
    }
  ]
}