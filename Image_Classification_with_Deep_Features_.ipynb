{
  "nbformat": 4,
  "nbformat_minor": 0,
  "metadata": {
    "colab": {
      "name": "Image Classification with Deep Features .ipynb",
      "provenance": [],
      "collapsed_sections": [],
      "mount_file_id": "1XjZ9XF-7wq5rAccvWfNO-qxEXPSLypAw",
      "authorship_tag": "ABX9TyONUMSNjkXFue0HOQJK9l64",
      "include_colab_link": true
    },
    "kernelspec": {
      "name": "python3",
      "display_name": "Python 3"
    }
  },
  "cells": [
    {
      "cell_type": "markdown",
      "metadata": {
        "id": "view-in-github",
        "colab_type": "text"
      },
      "source": [
        "<a href=\"https://colab.research.google.com/github/SabiulSabit/Machine-Learning-Foundations-A-Case-Study-Approach/blob/master/Image_Classification_with_Deep_Features_.ipynb\" target=\"_parent\"><img src=\"https://colab.research.google.com/assets/colab-badge.svg\" alt=\"Open In Colab\"/></a>"
      ]
    },
    {
      "cell_type": "code",
      "metadata": {
        "id": "VqjILTnNgzoK",
        "colab_type": "code",
        "colab": {}
      },
      "source": [
        "!pip install turicreate\n",
        "import turicreate as tr"
      ],
      "execution_count": null,
      "outputs": []
    },
    {
      "cell_type": "markdown",
      "metadata": {
        "id": "ciSCr0cliBev",
        "colab_type": "text"
      },
      "source": [
        "## **Load Common Images**"
      ]
    },
    {
      "cell_type": "code",
      "metadata": {
        "id": "Qb2vy0jRiG3O",
        "colab_type": "code",
        "colab": {}
      },
      "source": [
        "image_train = tr.SFrame(\"/content/drive/My Drive/Course ML/image_train_data\")\n",
        "image_test  = tr.SFrame(\"/content/drive/My Drive/Course ML/image_test_data\")"
      ],
      "execution_count": 4,
      "outputs": []
    },
    {
      "cell_type": "markdown",
      "metadata": {
        "id": "dJHHatbZinnX",
        "colab_type": "text"
      },
      "source": [
        "## **Explore Data**"
      ]
    },
    {
      "cell_type": "code",
      "metadata": {
        "id": "TVdx3D5lirEX",
        "colab_type": "code",
        "colab": {}
      },
      "source": [
        "image_train.show()"
      ],
      "execution_count": null,
      "outputs": []
    },
    {
      "cell_type": "markdown",
      "metadata": {
        "id": "goqk6pnLnvfr",
        "colab_type": "text"
      },
      "source": [
        "## **Train a classifier on the raw image pixels**"
      ]
    },
    {
      "cell_type": "code",
      "metadata": {
        "id": "KVAj7n51nxTQ",
        "colab_type": "code",
        "colab": {}
      },
      "source": [
        "rawPixxelModel =  tr.logistic_classifier.create(image_train,target = 'label',features=['image_array'])"
      ],
      "execution_count": null,
      "outputs": []
    },
    {
      "cell_type": "markdown",
      "metadata": {
        "id": "HfeLCakqocSA",
        "colab_type": "text"
      },
      "source": [
        "## **Make A Prediction**"
      ]
    },
    {
      "cell_type": "code",
      "metadata": {
        "id": "KjrJBUC1oe_4",
        "colab_type": "code",
        "colab": {}
      },
      "source": [
        "## image_test[0:3]['image'].show() #error"
      ],
      "execution_count": null,
      "outputs": []
    },
    {
      "cell_type": "code",
      "metadata": {
        "id": "GA67v0nko0IJ",
        "colab_type": "code",
        "colab": {
          "base_uri": "https://localhost:8080/",
          "height": 68
        },
        "outputId": "6361a69d-b527-4438-cdbc-63aa009b7a60"
      },
      "source": [
        "image_test[0:3]['label']"
      ],
      "execution_count": 14,
      "outputs": [
        {
          "output_type": "execute_result",
          "data": {
            "text/plain": [
              "dtype: str\n",
              "Rows: 3\n",
              "['cat', 'automobile', 'cat']"
            ]
          },
          "metadata": {
            "tags": []
          },
          "execution_count": 14
        }
      ]
    },
    {
      "cell_type": "code",
      "metadata": {
        "id": "OeySSoVrpHb4",
        "colab_type": "code",
        "colab": {
          "base_uri": "https://localhost:8080/",
          "height": 68
        },
        "outputId": "9ab35163-a32a-49d3-d941-0b5eeb722b0b"
      },
      "source": [
        "rawPixxelModel.predict(image_test[0:3])"
      ],
      "execution_count": 15,
      "outputs": [
        {
          "output_type": "execute_result",
          "data": {
            "text/plain": [
              "dtype: str\n",
              "Rows: 3\n",
              "['bird', 'cat', 'bird']"
            ]
          },
          "metadata": {
            "tags": []
          },
          "execution_count": 15
        }
      ]
    },
    {
      "cell_type": "markdown",
      "metadata": {
        "id": "Tp9GbB6uqWEz",
        "colab_type": "text"
      },
      "source": [
        "# **Evaluating raw pixel model on test data**"
      ]
    },
    {
      "cell_type": "code",
      "metadata": {
        "id": "Rk5QuZafqc-T",
        "colab_type": "code",
        "colab": {
          "base_uri": "https://localhost:8080/",
          "height": 921
        },
        "outputId": "c140ff7f-84f3-42f4-ba4a-6139239c79d6"
      },
      "source": [
        "rawPixxelModel.evaluate(image_test)"
      ],
      "execution_count": 16,
      "outputs": [
        {
          "output_type": "execute_result",
          "data": {
            "text/plain": [
              "{'accuracy': 0.48025, 'auc': 0.7305574166666677, 'confusion_matrix': Columns:\n",
              " \ttarget_label\tstr\n",
              " \tpredicted_label\tstr\n",
              " \tcount\tint\n",
              " \n",
              " Rows: 16\n",
              " \n",
              " Data:\n",
              " +--------------+-----------------+-------+\n",
              " | target_label | predicted_label | count |\n",
              " +--------------+-----------------+-------+\n",
              " |     dog      |    automobile   |  118  |\n",
              " |     bird     |       dog       |  196  |\n",
              " |     dog      |       cat       |  231  |\n",
              " |     dog      |       bird      |  205  |\n",
              " |     cat      |    automobile   |  174  |\n",
              " |     cat      |       cat       |  345  |\n",
              " |     dog      |       dog       |  446  |\n",
              " |     cat      |       dog       |  325  |\n",
              " |     bird     |       cat       |  168  |\n",
              " |  automobile  |    automobile   |  646  |\n",
              " +--------------+-----------------+-------+\n",
              " [16 rows x 3 columns]\n",
              " Note: Only the head of the SFrame is printed.\n",
              " You can use print_rows(num_rows=m, num_columns=n) to print more rows and columns., 'f1_score': 0.47775689537822763, 'log_loss': 1.1917186204035801, 'precision': 0.4770959502646237, 'recall': 0.48025, 'roc_curve': Columns:\n",
              " \tthreshold\tfloat\n",
              " \tfpr\tfloat\n",
              " \ttpr\tfloat\n",
              " \tp\tint\n",
              " \tn\tint\n",
              " \tclass\tint\n",
              " \n",
              " Rows: 400004\n",
              " \n",
              " Data:\n",
              " +-----------+-----+-----+------+------+-------+\n",
              " | threshold | fpr | tpr |  p   |  n   | class |\n",
              " +-----------+-----+-----+------+------+-------+\n",
              " |    0.0    | 1.0 | 1.0 | 1000 | 3000 |   0   |\n",
              " |   1e-05   | 1.0 | 1.0 | 1000 | 3000 |   0   |\n",
              " |   2e-05   | 1.0 | 1.0 | 1000 | 3000 |   0   |\n",
              " |   3e-05   | 1.0 | 1.0 | 1000 | 3000 |   0   |\n",
              " |   4e-05   | 1.0 | 1.0 | 1000 | 3000 |   0   |\n",
              " |   5e-05   | 1.0 | 1.0 | 1000 | 3000 |   0   |\n",
              " |   6e-05   | 1.0 | 1.0 | 1000 | 3000 |   0   |\n",
              " |   7e-05   | 1.0 | 1.0 | 1000 | 3000 |   0   |\n",
              " |   8e-05   | 1.0 | 1.0 | 1000 | 3000 |   0   |\n",
              " |   9e-05   | 1.0 | 1.0 | 1000 | 3000 |   0   |\n",
              " +-----------+-----+-----+------+------+-------+\n",
              " [400004 rows x 6 columns]\n",
              " Note: Only the head of the SFrame is printed.\n",
              " You can use print_rows(num_rows=m, num_columns=n) to print more rows and columns.}"
            ]
          },
          "metadata": {
            "tags": []
          },
          "execution_count": 16
        }
      ]
    }
  ]
}