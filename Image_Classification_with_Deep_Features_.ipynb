{
  "nbformat": 4,
  "nbformat_minor": 0,
  "metadata": {
    "colab": {
      "name": "Image Classification with Deep Features .ipynb",
      "provenance": [],
      "collapsed_sections": [],
      "mount_file_id": "1XjZ9XF-7wq5rAccvWfNO-qxEXPSLypAw",
      "authorship_tag": "ABX9TyPYur/neFBV06uvZotenc17",
      "include_colab_link": true
    },
    "kernelspec": {
      "name": "python3",
      "display_name": "Python 3"
    }
  },
  "cells": [
    {
      "cell_type": "markdown",
      "metadata": {
        "id": "view-in-github",
        "colab_type": "text"
      },
      "source": [
        "<a href=\"https://colab.research.google.com/github/SabiulSabit/Machine-Learning-Foundations-A-Case-Study-Approach/blob/master/Image_Classification_with_Deep_Features_.ipynb\" target=\"_parent\"><img src=\"https://colab.research.google.com/assets/colab-badge.svg\" alt=\"Open In Colab\"/></a>"
      ]
    },
    {
      "cell_type": "code",
      "metadata": {
        "id": "VqjILTnNgzoK",
        "colab_type": "code",
        "colab": {}
      },
      "source": [
        "!pip install turicreate\n",
        "import turicreate as tr"
      ],
      "execution_count": null,
      "outputs": []
    },
    {
      "cell_type": "markdown",
      "metadata": {
        "id": "ciSCr0cliBev",
        "colab_type": "text"
      },
      "source": [
        "## **Load Common Images**"
      ]
    },
    {
      "cell_type": "code",
      "metadata": {
        "id": "Qb2vy0jRiG3O",
        "colab_type": "code",
        "colab": {}
      },
      "source": [
        "image_train = tr.SFrame(\"/content/drive/My Drive/Course ML/image_train_data\")\n",
        "image_test  = tr.SFrame(\"/content/drive/My Drive/Course ML/image_test_data\")"
      ],
      "execution_count": 4,
      "outputs": []
    },
    {
      "cell_type": "markdown",
      "metadata": {
        "id": "dJHHatbZinnX",
        "colab_type": "text"
      },
      "source": [
        "## **Explore Data**"
      ]
    },
    {
      "cell_type": "code",
      "metadata": {
        "id": "TVdx3D5lirEX",
        "colab_type": "code",
        "colab": {}
      },
      "source": [
        "image_train.show()"
      ],
      "execution_count": null,
      "outputs": []
    }
  ]
}