{
  "nbformat": 4,
  "nbformat_minor": 0,
  "metadata": {
    "colab": {
      "name": "Analyzing Product Sentiment .ipynb",
      "provenance": [],
      "toc_visible": true,
      "mount_file_id": "1S2TYapNkSB-aDmc1hml3_6vufZIMNcX_",
      "authorship_tag": "ABX9TyNb0aMkDKn3/qRPFdnATtIy",
      "include_colab_link": true
    },
    "kernelspec": {
      "name": "python3",
      "display_name": "Python 3"
    }
  },
  "cells": [
    {
      "cell_type": "markdown",
      "metadata": {
        "id": "view-in-github",
        "colab_type": "text"
      },
      "source": [
        "<a href=\"https://colab.research.google.com/github/SabiulSabit/Machine-Learning-Foundations-A-Case-Study-Approach/blob/master/Analyzing_Product_Sentiment_.ipynb\" target=\"_parent\"><img src=\"https://colab.research.google.com/assets/colab-badge.svg\" alt=\"Open In Colab\"/></a>"
      ]
    },
    {
      "cell_type": "code",
      "metadata": {
        "id": "JTGLp-0nC_FT",
        "colab_type": "code",
        "colab": {}
      },
      "source": [
        "!pip install turicreate\n",
        "import turicreate as tr"
      ],
      "execution_count": null,
      "outputs": []
    },
    {
      "cell_type": "markdown",
      "metadata": {
        "id": "8Hxa6DMEjFCs",
        "colab_type": "text"
      },
      "source": [
        "## **Read some product review data**"
      ]
    },
    {
      "cell_type": "code",
      "metadata": {
        "id": "LzRXwRhvnX8z",
        "colab_type": "code",
        "colab": {}
      },
      "source": [
        "products = tr.SFrame(\"/content/drive/My Drive/Course ML/amazon_baby.sframe\")"
      ],
      "execution_count": 2,
      "outputs": []
    },
    {
      "cell_type": "markdown",
      "metadata": {
        "id": "AYeXkJmvnftB",
        "colab_type": "text"
      },
      "source": [
        "## **Explore the data**"
      ]
    },
    {
      "cell_type": "code",
      "metadata": {
        "id": "7gBDZjelni3g",
        "colab_type": "code",
        "colab": {}
      },
      "source": [
        "products.head()"
      ],
      "execution_count": null,
      "outputs": []
    },
    {
      "cell_type": "markdown",
      "metadata": {
        "id": "KpGuBPo0oWc1",
        "colab_type": "text"
      },
      "source": [
        "## **Build the word count vector for each review**"
      ]
    },
    {
      "cell_type": "code",
      "metadata": {
        "id": "CSOmZbKko7Uf",
        "colab_type": "code",
        "colab": {}
      },
      "source": [
        "products['word_count'] =  tr.text_analytics.count_words(products['review'])"
      ],
      "execution_count": 6,
      "outputs": []
    },
    {
      "cell_type": "code",
      "metadata": {
        "id": "F5oFzgIOpbf3",
        "colab_type": "code",
        "colab": {}
      },
      "source": [
        "products.head()"
      ],
      "execution_count": null,
      "outputs": []
    },
    {
      "cell_type": "code",
      "metadata": {
        "id": "JOsibLvUqbBU",
        "colab_type": "code",
        "colab": {}
      },
      "source": [
        "products['name'].show()"
      ],
      "execution_count": null,
      "outputs": []
    },
    {
      "cell_type": "markdown",
      "metadata": {
        "id": "pTKugAs3qqQO",
        "colab_type": "text"
      },
      "source": [
        "## **Explore vulli Sophie**"
      ]
    },
    {
      "cell_type": "code",
      "metadata": {
        "id": "kkfVTtRyqwdn",
        "colab_type": "code",
        "colab": {}
      },
      "source": [
        "giraffe_reviews = products[products['name']=='Vulli Sophie the Giraffe Teether']"
      ],
      "execution_count": 12,
      "outputs": []
    },
    {
      "cell_type": "code",
      "metadata": {
        "id": "4lVYDnFqrIVv",
        "colab_type": "code",
        "colab": {}
      },
      "source": [
        "len(giraffe_reviews)"
      ],
      "execution_count": null,
      "outputs": []
    },
    {
      "cell_type": "code",
      "metadata": {
        "id": "fSabgxzXs-vJ",
        "colab_type": "code",
        "colab": {}
      },
      "source": [
        "giraffe_reviews['rating'].show()"
      ],
      "execution_count": null,
      "outputs": []
    }
  ]
}