{
  "nbformat": 4,
  "nbformat_minor": 0,
  "metadata": {
    "colab": {
      "name": "Analyzing Product Sentiment .ipynb",
      "provenance": [],
      "toc_visible": true,
      "mount_file_id": "1S2TYapNkSB-aDmc1hml3_6vufZIMNcX_",
      "authorship_tag": "ABX9TyNYmhsupGGqZ7ypGz2gW2YJ",
      "include_colab_link": true
    },
    "kernelspec": {
      "name": "python3",
      "display_name": "Python 3"
    }
  },
  "cells": [
    {
      "cell_type": "markdown",
      "metadata": {
        "id": "view-in-github",
        "colab_type": "text"
      },
      "source": [
        "<a href=\"https://colab.research.google.com/github/SabiulSabit/Machine-Learning-Foundations-A-Case-Study-Approach/blob/master/Analyzing_Product_Sentiment_.ipynb\" target=\"_parent\"><img src=\"https://colab.research.google.com/assets/colab-badge.svg\" alt=\"Open In Colab\"/></a>"
      ]
    },
    {
      "cell_type": "code",
      "metadata": {
        "id": "JTGLp-0nC_FT",
        "colab_type": "code",
        "colab": {}
      },
      "source": [
        "!pip install turicreate\n",
        "import turicreate as tr"
      ],
      "execution_count": null,
      "outputs": []
    },
    {
      "cell_type": "markdown",
      "metadata": {
        "id": "8Hxa6DMEjFCs",
        "colab_type": "text"
      },
      "source": [
        "## **Read some product review data**"
      ]
    },
    {
      "cell_type": "code",
      "metadata": {
        "id": "LzRXwRhvnX8z",
        "colab_type": "code",
        "colab": {}
      },
      "source": [
        "products = tr.SFrame(\"/content/drive/My Drive/Course ML/amazon_baby.sframe\")"
      ],
      "execution_count": 2,
      "outputs": []
    },
    {
      "cell_type": "markdown",
      "metadata": {
        "id": "AYeXkJmvnftB",
        "colab_type": "text"
      },
      "source": [
        "## **Explore the data**"
      ]
    },
    {
      "cell_type": "code",
      "metadata": {
        "id": "7gBDZjelni3g",
        "colab_type": "code",
        "colab": {}
      },
      "source": [
        "products.head()"
      ],
      "execution_count": null,
      "outputs": []
    },
    {
      "cell_type": "markdown",
      "metadata": {
        "id": "KpGuBPo0oWc1",
        "colab_type": "text"
      },
      "source": [
        "## **Build the word count vector for each review**"
      ]
    },
    {
      "cell_type": "code",
      "metadata": {
        "id": "CSOmZbKko7Uf",
        "colab_type": "code",
        "colab": {}
      },
      "source": [
        "products['word_count'] =  tr.text_analytics.count_words(products['review'])"
      ],
      "execution_count": 6,
      "outputs": []
    },
    {
      "cell_type": "code",
      "metadata": {
        "id": "F5oFzgIOpbf3",
        "colab_type": "code",
        "colab": {}
      },
      "source": [
        "products.head()"
      ],
      "execution_count": null,
      "outputs": []
    },
    {
      "cell_type": "code",
      "metadata": {
        "id": "JOsibLvUqbBU",
        "colab_type": "code",
        "colab": {}
      },
      "source": [
        "products['name'].show()"
      ],
      "execution_count": null,
      "outputs": []
    },
    {
      "cell_type": "markdown",
      "metadata": {
        "id": "pTKugAs3qqQO",
        "colab_type": "text"
      },
      "source": [
        "## **Explore vulli Sophie**"
      ]
    },
    {
      "cell_type": "code",
      "metadata": {
        "id": "kkfVTtRyqwdn",
        "colab_type": "code",
        "colab": {}
      },
      "source": [
        "giraffe_reviews = products[products['name']=='Vulli Sophie the Giraffe Teether']"
      ],
      "execution_count": 12,
      "outputs": []
    },
    {
      "cell_type": "code",
      "metadata": {
        "id": "4lVYDnFqrIVv",
        "colab_type": "code",
        "colab": {}
      },
      "source": [
        "len(giraffe_reviews)"
      ],
      "execution_count": null,
      "outputs": []
    },
    {
      "cell_type": "code",
      "metadata": {
        "id": "fSabgxzXs-vJ",
        "colab_type": "code",
        "colab": {}
      },
      "source": [
        "giraffe_reviews['rating'].show()"
      ],
      "execution_count": null,
      "outputs": []
    },
    {
      "cell_type": "markdown",
      "metadata": {
        "id": "rZLYDD_vvAfK",
        "colab_type": "text"
      },
      "source": [
        "## **Build a sentiment classifier**"
      ]
    },
    {
      "cell_type": "code",
      "metadata": {
        "id": "MQ0y5-NqvKUg",
        "colab_type": "code",
        "colab": {}
      },
      "source": [
        "products['rating'].show()"
      ],
      "execution_count": null,
      "outputs": []
    },
    {
      "cell_type": "markdown",
      "metadata": {
        "id": "j7ci6QKMxRzX",
        "colab_type": "text"
      },
      "source": [
        "## **Define positive  and negative rating**\n",
        "\n",
        "\n",
        "1.   Ignore all 3 star\n",
        "2.   Positive  = 4 & 5 star\n",
        " \n"
      ]
    },
    {
      "cell_type": "code",
      "metadata": {
        "id": "djydTMOlxcA_",
        "colab_type": "code",
        "colab": {}
      },
      "source": [
        "#1 \n",
        "products = products[products['rating'] != 3] \n",
        "#products['rating'].show()"
      ],
      "execution_count": null,
      "outputs": []
    },
    {
      "cell_type": "code",
      "metadata": {
        "id": "U24aBYelyEgA",
        "colab_type": "code",
        "colab": {}
      },
      "source": [
        "#2\n",
        "products['sentiment'] = products['rating']>=4"
      ],
      "execution_count": 19,
      "outputs": []
    },
    {
      "cell_type": "markdown",
      "metadata": {
        "id": "FY2X_4Coy6KY",
        "colab_type": "text"
      },
      "source": [
        "## **Train The sentiment Classifier**"
      ]
    },
    {
      "cell_type": "code",
      "metadata": {
        "id": "kX5mRg2bzDvk",
        "colab_type": "code",
        "colab": {}
      },
      "source": [
        "train_data,test_data =  products.random_split(0.8,seed=0)"
      ],
      "execution_count": 26,
      "outputs": []
    },
    {
      "cell_type": "code",
      "metadata": {
        "id": "jUId3Ylnz37M",
        "colab_type": "code",
        "colab": {
          "base_uri": "https://localhost:8080/",
          "height": 340
        },
        "outputId": "a9bbc5ca-3d1e-416f-8ef4-41b423259321"
      },
      "source": [
        "sentimentmodel = tr.logistic_classifier.create(train_data,target='sentiment',features=['word_count'],validation_set=test_data)"
      ],
      "execution_count": 27,
      "outputs": [
        {
          "output_type": "display_data",
          "data": {
            "text/html": [
              "<pre>Logistic regression:</pre>"
            ],
            "text/plain": [
              "Logistic regression:"
            ]
          },
          "metadata": {
            "tags": []
          }
        },
        {
          "output_type": "display_data",
          "data": {
            "text/html": [
              "<pre>--------------------------------------------------------</pre>"
            ],
            "text/plain": [
              "--------------------------------------------------------"
            ]
          },
          "metadata": {
            "tags": []
          }
        },
        {
          "output_type": "display_data",
          "data": {
            "text/html": [
              "<pre>Number of examples          : 133448</pre>"
            ],
            "text/plain": [
              "Number of examples          : 133448"
            ]
          },
          "metadata": {
            "tags": []
          }
        },
        {
          "output_type": "display_data",
          "data": {
            "text/html": [
              "<pre>Number of classes           : 2</pre>"
            ],
            "text/plain": [
              "Number of classes           : 2"
            ]
          },
          "metadata": {
            "tags": []
          }
        },
        {
          "output_type": "display_data",
          "data": {
            "text/html": [
              "<pre>Number of feature columns   : 1</pre>"
            ],
            "text/plain": [
              "Number of feature columns   : 1"
            ]
          },
          "metadata": {
            "tags": []
          }
        },
        {
          "output_type": "display_data",
          "data": {
            "text/html": [
              "<pre>Number of unpacked features : 57356</pre>"
            ],
            "text/plain": [
              "Number of unpacked features : 57356"
            ]
          },
          "metadata": {
            "tags": []
          }
        },
        {
          "output_type": "display_data",
          "data": {
            "text/html": [
              "<pre>Number of coefficients      : 57357</pre>"
            ],
            "text/plain": [
              "Number of coefficients      : 57357"
            ]
          },
          "metadata": {
            "tags": []
          }
        },
        {
          "output_type": "display_data",
          "data": {
            "text/html": [
              "<pre>Starting L-BFGS</pre>"
            ],
            "text/plain": [
              "Starting L-BFGS"
            ]
          },
          "metadata": {
            "tags": []
          }
        },
        {
          "output_type": "display_data",
          "data": {
            "text/html": [
              "<pre>--------------------------------------------------------</pre>"
            ],
            "text/plain": [
              "--------------------------------------------------------"
            ]
          },
          "metadata": {
            "tags": []
          }
        },
        {
          "output_type": "display_data",
          "data": {
            "text/html": [
              "<pre>+-----------+----------+-----------+--------------+-------------------+---------------------+</pre>"
            ],
            "text/plain": [
              "+-----------+----------+-----------+--------------+-------------------+---------------------+"
            ]
          },
          "metadata": {
            "tags": []
          }
        },
        {
          "output_type": "display_data",
          "data": {
            "text/html": [
              "<pre>| Iteration | Passes   | Step size | Elapsed Time | Training Accuracy | Validation Accuracy |</pre>"
            ],
            "text/plain": [
              "| Iteration | Passes   | Step size | Elapsed Time | Training Accuracy | Validation Accuracy |"
            ]
          },
          "metadata": {
            "tags": []
          }
        },
        {
          "output_type": "display_data",
          "data": {
            "text/html": [
              "<pre>+-----------+----------+-----------+--------------+-------------------+---------------------+</pre>"
            ],
            "text/plain": [
              "+-----------+----------+-----------+--------------+-------------------+---------------------+"
            ]
          },
          "metadata": {
            "tags": []
          }
        },
        {
          "output_type": "display_data",
          "data": {
            "text/html": [
              "<pre>| 0         | 4        | 0.250000  | 2.363745     | 0.841421          | 0.840019            |</pre>"
            ],
            "text/plain": [
              "| 0         | 4        | 0.250000  | 2.363745     | 0.841421          | 0.840019            |"
            ]
          },
          "metadata": {
            "tags": []
          }
        },
        {
          "output_type": "display_data",
          "data": {
            "text/html": [
              "<pre>| 1         | 9        | 3.250000  | 4.287280     | 0.931359          | 0.911362            |</pre>"
            ],
            "text/plain": [
              "| 1         | 9        | 3.250000  | 4.287280     | 0.931359          | 0.911362            |"
            ]
          },
          "metadata": {
            "tags": []
          }
        },
        {
          "output_type": "display_data",
          "data": {
            "text/html": [
              "<pre>| 2         | 11       | 2.669978  | 5.246903     | 0.938650          | 0.916466            |</pre>"
            ],
            "text/plain": [
              "| 2         | 11       | 2.669978  | 5.246903     | 0.938650          | 0.916466            |"
            ]
          },
          "metadata": {
            "tags": []
          }
        },
        {
          "output_type": "display_data",
          "data": {
            "text/html": [
              "<pre>| 3         | 12       | 2.669978  | 5.858560     | 0.927417          | 0.901814            |</pre>"
            ],
            "text/plain": [
              "| 3         | 12       | 2.669978  | 5.858560     | 0.927417          | 0.901814            |"
            ]
          },
          "metadata": {
            "tags": []
          }
        },
        {
          "output_type": "display_data",
          "data": {
            "text/html": [
              "<pre>| 4         | 14       | 1.326072  | 6.792699     | 0.945200          | 0.918088            |</pre>"
            ],
            "text/plain": [
              "| 4         | 14       | 1.326072  | 6.792699     | 0.945200          | 0.918088            |"
            ]
          },
          "metadata": {
            "tags": []
          }
        },
        {
          "output_type": "display_data",
          "data": {
            "text/html": [
              "<pre>| 9         | 20       | 1.326072  | 10.118753    | 0.977654          | 0.917698            |</pre>"
            ],
            "text/plain": [
              "| 9         | 20       | 1.326072  | 10.118753    | 0.977654          | 0.917698            |"
            ]
          },
          "metadata": {
            "tags": []
          }
        },
        {
          "output_type": "display_data",
          "data": {
            "text/html": [
              "<pre>+-----------+----------+-----------+--------------+-------------------+---------------------+</pre>"
            ],
            "text/plain": [
              "+-----------+----------+-----------+--------------+-------------------+---------------------+"
            ]
          },
          "metadata": {
            "tags": []
          }
        }
      ]
    },
    {
      "cell_type": "markdown",
      "metadata": {
        "id": "WtfE0wY20lCT",
        "colab_type": "text"
      },
      "source": [
        "## **Evaluate the sentiment model**"
      ]
    },
    {
      "cell_type": "code",
      "metadata": {
        "id": "YgsKMQ280vYL",
        "colab_type": "code",
        "colab": {}
      },
      "source": [
        "sentimentmodel.evaluate(test_data,metric='roc_curve')"
      ],
      "execution_count": null,
      "outputs": []
    }
  ]
}