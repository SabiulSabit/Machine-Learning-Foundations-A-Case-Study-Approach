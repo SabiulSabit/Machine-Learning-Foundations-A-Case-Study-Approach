{
  "nbformat": 4,
  "nbformat_minor": 0,
  "metadata": {
    "colab": {
      "name": "Analyzing Product Sentiment .ipynb",
      "provenance": [],
      "toc_visible": true,
      "mount_file_id": "1S2TYapNkSB-aDmc1hml3_6vufZIMNcX_",
      "authorship_tag": "ABX9TyPXL4Rg9LfNd8BeeDvjV6JQ",
      "include_colab_link": true
    },
    "kernelspec": {
      "name": "python3",
      "display_name": "Python 3"
    }
  },
  "cells": [
    {
      "cell_type": "markdown",
      "metadata": {
        "id": "view-in-github",
        "colab_type": "text"
      },
      "source": [
        "<a href=\"https://colab.research.google.com/github/SabiulSabit/Machine-Learning-Foundations-A-Case-Study-Approach/blob/master/Analyzing_Product_Sentiment_.ipynb\" target=\"_parent\"><img src=\"https://colab.research.google.com/assets/colab-badge.svg\" alt=\"Open In Colab\"/></a>"
      ]
    },
    {
      "cell_type": "code",
      "metadata": {
        "id": "JTGLp-0nC_FT",
        "colab_type": "code",
        "colab": {}
      },
      "source": [
        "!pip install turicreate\n",
        "import turicreate as tr"
      ],
      "execution_count": null,
      "outputs": []
    },
    {
      "cell_type": "markdown",
      "metadata": {
        "id": "8Hxa6DMEjFCs",
        "colab_type": "text"
      },
      "source": [
        "## **Read some product review data**"
      ]
    },
    {
      "cell_type": "code",
      "metadata": {
        "id": "LzRXwRhvnX8z",
        "colab_type": "code",
        "colab": {}
      },
      "source": [
        "products = tr.SFrame(\"/content/drive/My Drive/Course ML/amazon_baby.sframe\")"
      ],
      "execution_count": 2,
      "outputs": []
    },
    {
      "cell_type": "markdown",
      "metadata": {
        "id": "AYeXkJmvnftB",
        "colab_type": "text"
      },
      "source": [
        "## **Explore the data**"
      ]
    },
    {
      "cell_type": "code",
      "metadata": {
        "id": "7gBDZjelni3g",
        "colab_type": "code",
        "colab": {}
      },
      "source": [
        "products.head()"
      ],
      "execution_count": null,
      "outputs": []
    },
    {
      "cell_type": "markdown",
      "metadata": {
        "id": "KpGuBPo0oWc1",
        "colab_type": "text"
      },
      "source": [
        "## **Build the word count vector for each review**"
      ]
    },
    {
      "cell_type": "code",
      "metadata": {
        "id": "CSOmZbKko7Uf",
        "colab_type": "code",
        "colab": {}
      },
      "source": [
        "products['word_count'] =  tr.text_analytics.count_words(products['review'])"
      ],
      "execution_count": 6,
      "outputs": []
    },
    {
      "cell_type": "code",
      "metadata": {
        "id": "F5oFzgIOpbf3",
        "colab_type": "code",
        "colab": {}
      },
      "source": [
        "products.head()"
      ],
      "execution_count": null,
      "outputs": []
    },
    {
      "cell_type": "code",
      "metadata": {
        "id": "JOsibLvUqbBU",
        "colab_type": "code",
        "colab": {}
      },
      "source": [
        "products['name'].show()"
      ],
      "execution_count": null,
      "outputs": []
    },
    {
      "cell_type": "markdown",
      "metadata": {
        "id": "pTKugAs3qqQO",
        "colab_type": "text"
      },
      "source": [
        "## **Explore vulli Sophie**"
      ]
    },
    {
      "cell_type": "code",
      "metadata": {
        "id": "kkfVTtRyqwdn",
        "colab_type": "code",
        "colab": {}
      },
      "source": [
        "giraffe_reviews = products[products['name']=='Vulli Sophie the Giraffe Teether']"
      ],
      "execution_count": 12,
      "outputs": []
    },
    {
      "cell_type": "code",
      "metadata": {
        "id": "4lVYDnFqrIVv",
        "colab_type": "code",
        "colab": {}
      },
      "source": [
        "len(giraffe_reviews)"
      ],
      "execution_count": null,
      "outputs": []
    },
    {
      "cell_type": "code",
      "metadata": {
        "id": "fSabgxzXs-vJ",
        "colab_type": "code",
        "colab": {}
      },
      "source": [
        "giraffe_reviews['rating'].show()"
      ],
      "execution_count": null,
      "outputs": []
    },
    {
      "cell_type": "markdown",
      "metadata": {
        "id": "rZLYDD_vvAfK",
        "colab_type": "text"
      },
      "source": [
        "## **Build a sentiment classifier**"
      ]
    },
    {
      "cell_type": "code",
      "metadata": {
        "id": "MQ0y5-NqvKUg",
        "colab_type": "code",
        "colab": {}
      },
      "source": [
        "products['rating'].show()"
      ],
      "execution_count": null,
      "outputs": []
    },
    {
      "cell_type": "markdown",
      "metadata": {
        "id": "j7ci6QKMxRzX",
        "colab_type": "text"
      },
      "source": [
        "## **Define positive  and negative rating**\n",
        "\n",
        "\n",
        "1.   Ignore all 3 star\n",
        "2.   Positive  = 4 & 5 star\n",
        " \n"
      ]
    },
    {
      "cell_type": "code",
      "metadata": {
        "id": "djydTMOlxcA_",
        "colab_type": "code",
        "colab": {}
      },
      "source": [
        "#1 \n",
        "products = products[products['rating'] != 3] \n",
        "#products['rating'].show()"
      ],
      "execution_count": null,
      "outputs": []
    },
    {
      "cell_type": "code",
      "metadata": {
        "id": "U24aBYelyEgA",
        "colab_type": "code",
        "colab": {}
      },
      "source": [
        "#2\n",
        "products['sentiment'] = products['rating']>=4"
      ],
      "execution_count": 19,
      "outputs": []
    },
    {
      "cell_type": "markdown",
      "metadata": {
        "id": "FY2X_4Coy6KY",
        "colab_type": "text"
      },
      "source": [
        "## **Train The sentiment Classifier**"
      ]
    },
    {
      "cell_type": "code",
      "metadata": {
        "id": "kX5mRg2bzDvk",
        "colab_type": "code",
        "colab": {}
      },
      "source": [
        "train_data,test_data =  products.random_split(0.8,seed=0)"
      ],
      "execution_count": 26,
      "outputs": []
    },
    {
      "cell_type": "code",
      "metadata": {
        "id": "jUId3Ylnz37M",
        "colab_type": "code",
        "colab": {}
      },
      "source": [
        "sentimentmodel = tr.logistic_classifier.create(train_data,target='sentiment',features=['word_count'],validation_set=test_data)"
      ],
      "execution_count": null,
      "outputs": []
    },
    {
      "cell_type": "markdown",
      "metadata": {
        "id": "WtfE0wY20lCT",
        "colab_type": "text"
      },
      "source": [
        "## **Evaluate the sentiment model**"
      ]
    },
    {
      "cell_type": "code",
      "metadata": {
        "id": "YgsKMQ280vYL",
        "colab_type": "code",
        "colab": {}
      },
      "source": [
        "sentimentmodel.evaluate(test_data,metric='roc_curve')"
      ],
      "execution_count": null,
      "outputs": []
    },
    {
      "cell_type": "markdown",
      "metadata": {
        "id": "KMcRpaaZ7l0s",
        "colab_type": "text"
      },
      "source": [
        "## **Applying the learned model to understand sentiment for giraffe**"
      ]
    },
    {
      "cell_type": "code",
      "metadata": {
        "id": "B3RV0Zwn7zJ5",
        "colab_type": "code",
        "colab": {}
      },
      "source": [
        "giraffe_reviews['predicted_sentiment'] = sentimentmodel.predict(giraffe_reviews,output_type=\"probability\")"
      ],
      "execution_count": 40,
      "outputs": []
    },
    {
      "cell_type": "code",
      "metadata": {
        "id": "78EcU5yc8PH5",
        "colab_type": "code",
        "colab": {}
      },
      "source": [
        "giraffe_reviews.head()"
      ],
      "execution_count": null,
      "outputs": []
    },
    {
      "cell_type": "markdown",
      "metadata": {
        "id": "_45cew1K82pH",
        "colab_type": "text"
      },
      "source": [
        "## **Sort Reviews based on the predicted sentiment and explore**"
      ]
    },
    {
      "cell_type": "code",
      "metadata": {
        "id": "kWC1AOrO8_nz",
        "colab_type": "code",
        "colab": {}
      },
      "source": [
        "giraffe_reviews = giraffe_reviews.sort('predicted_sentiment',ascending=False)"
      ],
      "execution_count": 42,
      "outputs": []
    },
    {
      "cell_type": "code",
      "metadata": {
        "id": "gOI4Z6LF9O5X",
        "colab_type": "code",
        "colab": {}
      },
      "source": [
        "giraffe_reviews.head()"
      ],
      "execution_count": null,
      "outputs": []
    },
    {
      "cell_type": "markdown",
      "metadata": {
        "id": "MG30roji-Y2y",
        "colab_type": "text"
      },
      "source": [
        "## **Most Positive Reviews**"
      ]
    },
    {
      "cell_type": "code",
      "metadata": {
        "id": "ItmX1tPQ9au8",
        "colab_type": "code",
        "colab": {}
      },
      "source": [
        "giraffe_reviews[0]['review'] "
      ],
      "execution_count": null,
      "outputs": []
    },
    {
      "cell_type": "markdown",
      "metadata": {
        "id": "wPbp8i4x-BAr",
        "colab_type": "text"
      },
      "source": [
        "### **Most Negative Reviews**"
      ]
    },
    {
      "cell_type": "code",
      "metadata": {
        "id": "MfznDRUO-GZQ",
        "colab_type": "code",
        "colab": {}
      },
      "source": [
        "giraffe_reviews[-1]['review'] "
      ],
      "execution_count": null,
      "outputs": []
    }
  ]
}