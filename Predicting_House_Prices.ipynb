{
  "nbformat": 4,
  "nbformat_minor": 0,
  "metadata": {
    "colab": {
      "name": "Predicting House Prices.ipynb",
      "provenance": [],
      "collapsed_sections": [],
      "mount_file_id": "102EaIW0Ir9ZhadyoWx1pe28rouL1N9W6",
      "authorship_tag": "ABX9TyOSZ3wvCP/xWKZ+CFuQQs0P",
      "include_colab_link": true
    },
    "kernelspec": {
      "name": "python3",
      "display_name": "Python 3"
    }
  },
  "cells": [
    {
      "cell_type": "markdown",
      "metadata": {
        "id": "view-in-github",
        "colab_type": "text"
      },
      "source": [
        "<a href=\"https://colab.research.google.com/github/SabiulSabit/Machine-Learning-Foundations-A-Case-Study-Approach/blob/master/Predicting_House_Prices.ipynb\" target=\"_parent\"><img src=\"https://colab.research.google.com/assets/colab-badge.svg\" alt=\"Open In Colab\"/></a>"
      ]
    },
    {
      "cell_type": "code",
      "metadata": {
        "id": "YlBHgl7Ah1D9",
        "colab_type": "code",
        "colab": {}
      },
      "source": [
        "!pip install turicreate\n",
        "import turicreate as tr\n",
        "from turicreate import SFrame"
      ],
      "execution_count": null,
      "outputs": []
    },
    {
      "cell_type": "markdown",
      "metadata": {
        "id": "-oWUJ6XtPD92",
        "colab_type": "text"
      },
      "source": [
        "## **Load House Sale data**"
      ]
    },
    {
      "cell_type": "code",
      "metadata": {
        "id": "zBR5DqSYN213",
        "colab_type": "code",
        "colab": {}
      },
      "source": [
        "sales = SFrame(\"/content/drive/My Drive/home_data.sframe\")"
      ],
      "execution_count": 6,
      "outputs": []
    },
    {
      "cell_type": "code",
      "metadata": {
        "id": "ex7av7ljPAgt",
        "colab_type": "code",
        "colab": {}
      },
      "source": [
        "sales"
      ],
      "execution_count": null,
      "outputs": []
    },
    {
      "cell_type": "markdown",
      "metadata": {
        "id": "4fcnyQXqPfYe",
        "colab_type": "text"
      },
      "source": [
        "## **Exploring the data for housing**"
      ]
    },
    {
      "cell_type": "code",
      "metadata": {
        "id": "KIOabj3aPmsn",
        "colab_type": "code",
        "colab": {}
      },
      "source": [
        "sales['grade'].show()"
      ],
      "execution_count": null,
      "outputs": []
    },
    {
      "cell_type": "markdown",
      "metadata": {
        "id": "EwqvHh14TCjJ",
        "colab_type": "text"
      },
      "source": [
        "## **Create A Regration Model**"
      ]
    },
    {
      "cell_type": "code",
      "metadata": {
        "id": "DQJHkantTIzl",
        "colab_type": "code",
        "colab": {}
      },
      "source": [
        "train_data,test_data = sales.random_split(.8,seed=0)"
      ],
      "execution_count": 20,
      "outputs": []
    },
    {
      "cell_type": "code",
      "metadata": {
        "id": "M1XVhB5jV48J",
        "colab_type": "code",
        "colab": {}
      },
      "source": [
        "sqft_model = tr.linear_regression.create(train_data,target = \"price\",features=['sqft_living'])"
      ],
      "execution_count": null,
      "outputs": []
    },
    {
      "cell_type": "markdown",
      "metadata": {
        "id": "Ek2lsunzXdR3",
        "colab_type": "text"
      },
      "source": [
        "## **Evaluate The Model**"
      ]
    },
    {
      "cell_type": "code",
      "metadata": {
        "id": "qWMERxfrXcqg",
        "colab_type": "code",
        "colab": {}
      },
      "source": [
        "print(test_data['price'].mean())"
      ],
      "execution_count": null,
      "outputs": []
    },
    {
      "cell_type": "code",
      "metadata": {
        "id": "LWZWQCDvYCM7",
        "colab_type": "code",
        "colab": {}
      },
      "source": [
        "print(sqft_model.evaluate(test_data)) # print the max error and the root mean square error"
      ],
      "execution_count": null,
      "outputs": []
    },
    {
      "cell_type": "markdown",
      "metadata": {
        "id": "bB7X8uB2bxEA",
        "colab_type": "text"
      },
      "source": [
        "## **Show Prediction**"
      ]
    },
    {
      "cell_type": "code",
      "metadata": {
        "id": "C6ru8pnQb4zp",
        "colab_type": "code",
        "colab": {}
      },
      "source": [
        "import matplotlib.pyplot as plt \n",
        "%matplotlib inline"
      ],
      "execution_count": 36,
      "outputs": []
    },
    {
      "cell_type": "code",
      "metadata": {
        "id": "-1grP2K5cKMa",
        "colab_type": "code",
        "colab": {}
      },
      "source": [
        "plt.plot(test_data['sqft_living'],test_data['price'],'.',test_data['sqft_living'],sqft_model.predict(test_data),'-') #draw the prediction"
      ],
      "execution_count": null,
      "outputs": []
    },
    {
      "cell_type": "code",
      "metadata": {
        "id": "zOjTNsQPdA2z",
        "colab_type": "code",
        "colab": {}
      },
      "source": [
        "sqft_model.coefficients #show coefficients"
      ],
      "execution_count": null,
      "outputs": []
    }
  ]
}