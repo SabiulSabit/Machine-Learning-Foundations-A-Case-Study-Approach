{
  "nbformat": 4,
  "nbformat_minor": 0,
  "metadata": {
    "colab": {
      "name": "Predicting House Prices.ipynb",
      "provenance": [],
      "collapsed_sections": [],
      "mount_file_id": "102EaIW0Ir9ZhadyoWx1pe28rouL1N9W6",
      "authorship_tag": "ABX9TyOTjKSHGU3dvcH06q0Xl79d",
      "include_colab_link": true
    },
    "kernelspec": {
      "name": "python3",
      "display_name": "Python 3"
    }
  },
  "cells": [
    {
      "cell_type": "markdown",
      "metadata": {
        "id": "view-in-github",
        "colab_type": "text"
      },
      "source": [
        "<a href=\"https://colab.research.google.com/github/SabiulSabit/Machine-Learning-Foundations-A-Case-Study-Approach/blob/master/Predicting_House_Prices.ipynb\" target=\"_parent\"><img src=\"https://colab.research.google.com/assets/colab-badge.svg\" alt=\"Open In Colab\"/></a>"
      ]
    },
    {
      "cell_type": "code",
      "metadata": {
        "id": "YlBHgl7Ah1D9",
        "colab_type": "code",
        "colab": {}
      },
      "source": [
        "!pip install turicreate\n",
        "import turicreate as tr\n",
        "from turicreate import SFrame"
      ],
      "execution_count": null,
      "outputs": []
    },
    {
      "cell_type": "markdown",
      "metadata": {
        "id": "-oWUJ6XtPD92",
        "colab_type": "text"
      },
      "source": [
        "## **Load House Sale data**"
      ]
    },
    {
      "cell_type": "code",
      "metadata": {
        "id": "zBR5DqSYN213",
        "colab_type": "code",
        "colab": {}
      },
      "source": [
        "sales = SFrame(\"/content/drive/My Drive/home_data.sframe\")"
      ],
      "execution_count": 6,
      "outputs": []
    },
    {
      "cell_type": "code",
      "metadata": {
        "id": "ex7av7ljPAgt",
        "colab_type": "code",
        "colab": {}
      },
      "source": [
        "sales"
      ],
      "execution_count": null,
      "outputs": []
    },
    {
      "cell_type": "markdown",
      "metadata": {
        "id": "4fcnyQXqPfYe",
        "colab_type": "text"
      },
      "source": [
        "## **Exploring the data for housing**"
      ]
    },
    {
      "cell_type": "code",
      "metadata": {
        "id": "KIOabj3aPmsn",
        "colab_type": "code",
        "colab": {}
      },
      "source": [
        "sales['grade'].show()"
      ],
      "execution_count": null,
      "outputs": []
    },
    {
      "cell_type": "markdown",
      "metadata": {
        "id": "EwqvHh14TCjJ",
        "colab_type": "text"
      },
      "source": [
        "## **Create A Regration Model**"
      ]
    },
    {
      "cell_type": "code",
      "metadata": {
        "id": "DQJHkantTIzl",
        "colab_type": "code",
        "colab": {}
      },
      "source": [
        "train_data,test_data = sales.random_split(.8,seed=0)"
      ],
      "execution_count": 20,
      "outputs": []
    },
    {
      "cell_type": "code",
      "metadata": {
        "id": "M1XVhB5jV48J",
        "colab_type": "code",
        "colab": {}
      },
      "source": [
        "sqft_model = tr.linear_regression.create(train_data,target = \"price\",features=['sqft_living'])"
      ],
      "execution_count": null,
      "outputs": []
    },
    {
      "cell_type": "markdown",
      "metadata": {
        "id": "Ek2lsunzXdR3",
        "colab_type": "text"
      },
      "source": [
        "## **Evaluate The Model**"
      ]
    },
    {
      "cell_type": "code",
      "metadata": {
        "id": "qWMERxfrXcqg",
        "colab_type": "code",
        "colab": {}
      },
      "source": [
        "print(test_data['price'].mean())"
      ],
      "execution_count": null,
      "outputs": []
    },
    {
      "cell_type": "code",
      "metadata": {
        "id": "LWZWQCDvYCM7",
        "colab_type": "code",
        "colab": {}
      },
      "source": [
        "print(sqft_model.evaluate(test_data)) # print the max error and the root mean square error"
      ],
      "execution_count": null,
      "outputs": []
    },
    {
      "cell_type": "markdown",
      "metadata": {
        "id": "bB7X8uB2bxEA",
        "colab_type": "text"
      },
      "source": [
        "## **Show Prediction**"
      ]
    },
    {
      "cell_type": "code",
      "metadata": {
        "id": "C6ru8pnQb4zp",
        "colab_type": "code",
        "colab": {}
      },
      "source": [
        "import matplotlib.pyplot as plt \n",
        "%matplotlib inline"
      ],
      "execution_count": 36,
      "outputs": []
    },
    {
      "cell_type": "code",
      "metadata": {
        "id": "-1grP2K5cKMa",
        "colab_type": "code",
        "colab": {}
      },
      "source": [
        "plt.plot(test_data['sqft_living'],test_data['price'],'.',test_data['sqft_living'],sqft_model.predict(test_data),'-') #draw the prediction"
      ],
      "execution_count": null,
      "outputs": []
    },
    {
      "cell_type": "code",
      "metadata": {
        "id": "zOjTNsQPdA2z",
        "colab_type": "code",
        "colab": {}
      },
      "source": [
        "sqft_model.coefficients #show coefficients"
      ],
      "execution_count": null,
      "outputs": []
    },
    {
      "cell_type": "markdown",
      "metadata": {
        "id": "_r4DoNF4eQag",
        "colab_type": "text"
      },
      "source": [
        "## **Explore Other Features**"
      ]
    },
    {
      "cell_type": "code",
      "metadata": {
        "id": "qoqLNoyKeWrc",
        "colab_type": "code",
        "colab": {}
      },
      "source": [
        "newFeatures = ['bedrooms', 'bathrooms' , 'sqft_living' , 'sqft_lot' , 'floors', 'zipcode']"
      ],
      "execution_count": 42,
      "outputs": []
    },
    {
      "cell_type": "code",
      "metadata": {
        "id": "DRpzY8kPeyQy",
        "colab_type": "code",
        "colab": {}
      },
      "source": [
        "sales[newFeatures].show()"
      ],
      "execution_count": null,
      "outputs": []
    },
    {
      "cell_type": "markdown",
      "metadata": {
        "id": "7xmwjyBchgQz",
        "colab_type": "text"
      },
      "source": [
        "## **Build Regression model with more features**"
      ]
    },
    {
      "cell_type": "code",
      "metadata": {
        "id": "mj-ilswwhoqY",
        "colab_type": "code",
        "colab": {}
      },
      "source": [
        "myFeaturesModel = tr.linear_regression.create(train_data,target = \"price\",features=newFeatures)"
      ],
      "execution_count": null,
      "outputs": []
    },
    {
      "cell_type": "code",
      "metadata": {
        "id": "hUBwxUQdh_Sv",
        "colab_type": "code",
        "colab": {}
      },
      "source": [
        "print(sqft_model.evaluate(test_data))\n",
        "print(myFeaturesModel.evaluate(test_data))"
      ],
      "execution_count": null,
      "outputs": []
    },
    {
      "cell_type": "markdown",
      "metadata": {
        "id": "nJ2lJDxBjddX",
        "colab_type": "text"
      },
      "source": [
        "## **Apply Learned Models to predict price**"
      ]
    },
    {
      "cell_type": "code",
      "metadata": {
        "id": "qd7Yig7FjcRU",
        "colab_type": "code",
        "colab": {}
      },
      "source": [
        "house1 = sales[sales['id']=='5309101200']"
      ],
      "execution_count": 48,
      "outputs": []
    },
    {
      "cell_type": "code",
      "metadata": {
        "id": "fM-Hqutujy1L",
        "colab_type": "code",
        "colab": {}
      },
      "source": [
        "house1"
      ],
      "execution_count": null,
      "outputs": []
    },
    {
      "cell_type": "markdown",
      "metadata": {
        "id": "j5MJ4YkVoC7A",
        "colab_type": "text"
      },
      "source": [
        "## **Show Image**"
      ]
    },
    {
      "cell_type": "code",
      "metadata": {
        "id": "AhLjvfeHj7iS",
        "colab_type": "code",
        "colab": {}
      },
      "source": [
        "import matplotlib.image as mpimg \n",
        "from matplotlib.pyplot import imshow\n",
        "%matplotlib inline\n",
        "testim = mpimg.imread('/content/drive/My Drive/house_images/house1.png')\n",
        "imshow(testim)"
      ],
      "execution_count": null,
      "outputs": []
    },
    {
      "cell_type": "code",
      "metadata": {
        "id": "wVzN5EyRoU1R",
        "colab_type": "code",
        "colab": {}
      },
      "source": [
        "house1['price']"
      ],
      "execution_count": null,
      "outputs": []
    },
    {
      "cell_type": "code",
      "metadata": {
        "id": "RcSdg4Ahoc1f",
        "colab_type": "code",
        "colab": {}
      },
      "source": [
        "print(sqft_model.predict(house1)) \n",
        "print(myFeaturesModel.predict(house1))"
      ],
      "execution_count": null,
      "outputs": []
    },
    {
      "cell_type": "markdown",
      "metadata": {
        "id": "_hiYcd9vqCrk",
        "colab_type": "text"
      },
      "source": [
        "### 2nd House"
      ]
    },
    {
      "cell_type": "code",
      "metadata": {
        "id": "YeB1bMXqqKtk",
        "colab_type": "code",
        "colab": {}
      },
      "source": [
        "house2 = sales[sales['id']=='1925069082']\n",
        "house2"
      ],
      "execution_count": null,
      "outputs": []
    },
    {
      "cell_type": "code",
      "metadata": {
        "id": "OWmF1NVGqhdy",
        "colab_type": "code",
        "colab": {}
      },
      "source": [
        "testim2 = mpimg.imread('/content/drive/My Drive/house_images/house2.jpg')\n",
        "imshow(testim2)"
      ],
      "execution_count": null,
      "outputs": []
    },
    {
      "cell_type": "code",
      "metadata": {
        "id": "g8ZizmQnqxKU",
        "colab_type": "code",
        "colab": {}
      },
      "source": [
        "print(sqft_model.predict(house2)) \n",
        "print(myFeaturesModel.predict(house2))"
      ],
      "execution_count": null,
      "outputs": []
    }
  ]
}