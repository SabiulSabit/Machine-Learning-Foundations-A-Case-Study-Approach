{
  "nbformat": 4,
  "nbformat_minor": 0,
  "metadata": {
    "colab": {
      "name": "week1Quiz.ipynb",
      "provenance": [],
      "authorship_tag": "ABX9TyORmnCdeXClHW410vf6kwvh",
      "include_colab_link": true
    },
    "kernelspec": {
      "name": "python3",
      "display_name": "Python 3"
    }
  },
  "cells": [
    {
      "cell_type": "markdown",
      "metadata": {
        "id": "view-in-github",
        "colab_type": "text"
      },
      "source": [
        "<a href=\"https://colab.research.google.com/github/SabiulSabit/Machine-Learning-Foundations-A-Case-Study-Approach/blob/master/week1Quiz.ipynb\" target=\"_parent\"><img src=\"https://colab.research.google.com/assets/colab-badge.svg\" alt=\"Open In Colab\"/></a>"
      ]
    },
    {
      "cell_type": "markdown",
      "metadata": {
        "id": "NPtgWuzAZ6Bl",
        "colab_type": "text"
      },
      "source": [
        "# **Week 1 Quiz**\n",
        "\n",
        "---\n",
        "\n"
      ]
    },
    {
      "cell_type": "markdown",
      "metadata": {
        "id": "KtH27wAraIfc",
        "colab_type": "text"
      },
      "source": [
        "### Download the Wiki People SFrame. Then open a new Jupyter notebook, import TuriCreate, and read the SFrame data. \n",
        "\n"
      ]
    },
    {
      "cell_type": "code",
      "metadata": {
        "id": "rkEz-eStAyXO",
        "colab_type": "code",
        "colab": {}
      },
      "source": [
        "#Answer\n",
        "!pip install turicreate \n",
        "from turicreate import SFrame\n",
        "sf = SFrame(data='/content/drive/My Drive/people_wiki.sframe') #local file path\n",
        "sf"
      ],
      "execution_count": null,
      "outputs": []
    },
    {
      "cell_type": "markdown",
      "metadata": {
        "id": "Wa3Z8Ju7aWU5",
        "colab_type": "text"
      },
      "source": [
        "### H​ow many rows are in the SFrame? (Do NOT use commas or periods.)"
      ]
    },
    {
      "cell_type": "markdown",
      "metadata": {
        "id": "PAvPHkcRadjr",
        "colab_type": "text"
      },
      "source": [
        "Answer: **59071**"
      ]
    },
    {
      "cell_type": "markdown",
      "metadata": {
        "id": "eMEL7XXjalUz",
        "colab_type": "text"
      },
      "source": [
        "### Which name is in the last row?"
      ]
    },
    {
      "cell_type": "code",
      "metadata": {
        "id": "bMg_dAy9aqQz",
        "colab_type": "code",
        "colab": {}
      },
      "source": [
        "#Answer\n",
        "sf.tail()\n",
        "Ans - Fawaz Damrah"
      ],
      "execution_count": null,
      "outputs": []
    },
    {
      "cell_type": "markdown",
      "metadata": {
        "id": "c-7LwWP7a8M7",
        "colab_type": "text"
      },
      "source": [
        "### Sort the SFrame according to the text column, in ascending order. What is the name entry in the first row?\n",
        "\n"
      ]
    },
    {
      "cell_type": "code",
      "metadata": {
        "id": "NyghuN_HUr2s",
        "colab_type": "code",
        "colab": {}
      },
      "source": [
        "sf.sort('text') #runing this code you will find the answer"
      ],
      "execution_count": null,
      "outputs": []
    }
  ]
}