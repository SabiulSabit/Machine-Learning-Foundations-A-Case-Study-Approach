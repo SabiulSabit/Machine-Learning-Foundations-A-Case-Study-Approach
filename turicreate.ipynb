{
  "nbformat": 4,
  "nbformat_minor": 0,
  "metadata": {
    "colab": {
      "name": "turicreate.ipynb",
      "provenance": [],
      "authorship_tag": "ABX9TyO5Ffj7f+T6aoditT/Ek7UQ",
      "include_colab_link": true
    },
    "kernelspec": {
      "name": "python3",
      "display_name": "Python 3"
    }
  },
  "cells": [
    {
      "cell_type": "markdown",
      "metadata": {
        "id": "view-in-github",
        "colab_type": "text"
      },
      "source": [
        "<a href=\"https://colab.research.google.com/github/SabiulSabit/Machine-Learning-Foundations-A-Case-Study-Approach/blob/master/turicreate.ipynb\" target=\"_parent\"><img src=\"https://colab.research.google.com/assets/colab-badge.svg\" alt=\"Open In Colab\"/></a>"
      ]
    },
    {
      "cell_type": "markdown",
      "metadata": {
        "id": "OQAPlmwvt2Jp",
        "colab_type": "text"
      },
      "source": [
        "# **Use of Turicreate**"
      ]
    },
    {
      "cell_type": "code",
      "metadata": {
        "id": "Def4qEmlty8n",
        "colab_type": "code",
        "colab": {}
      },
      "source": [
        "!pip install turicreate "
      ],
      "execution_count": null,
      "outputs": []
    }
  ]
}