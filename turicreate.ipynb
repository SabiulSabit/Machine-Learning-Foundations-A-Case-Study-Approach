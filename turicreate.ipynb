{
  "nbformat": 4,
  "nbformat_minor": 0,
  "metadata": {
    "colab": {
      "name": "turicreate.ipynb",
      "provenance": [],
      "authorship_tag": "ABX9TyO1V+5tELYjYa7+Coioo90G",
      "include_colab_link": true
    },
    "kernelspec": {
      "name": "python3",
      "display_name": "Python 3"
    }
  },
  "cells": [
    {
      "cell_type": "markdown",
      "metadata": {
        "id": "view-in-github",
        "colab_type": "text"
      },
      "source": [
        "<a href=\"https://colab.research.google.com/github/SabiulSabit/Machine-Learning-Foundations-A-Case-Study-Approach/blob/master/turicreate.ipynb\" target=\"_parent\"><img src=\"https://colab.research.google.com/assets/colab-badge.svg\" alt=\"Open In Colab\"/></a>"
      ]
    },
    {
      "cell_type": "markdown",
      "metadata": {
        "id": "OQAPlmwvt2Jp",
        "colab_type": "text"
      },
      "source": [
        "# **Use of Turicreate**\n",
        "\n",
        "---\n",
        "\n"
      ]
    },
    {
      "cell_type": "code",
      "metadata": {
        "id": "Def4qEmlty8n",
        "colab_type": "code",
        "colab": {}
      },
      "source": [
        "!pip install turicreate \n",
        "from turicreate import SFrame"
      ],
      "execution_count": null,
      "outputs": []
    },
    {
      "cell_type": "code",
      "metadata": {
        "id": "DS6cDIZAyK9y",
        "colab_type": "code",
        "colab": {}
      },
      "source": [
        "import pandas as pd"
      ],
      "execution_count": 8,
      "outputs": []
    },
    {
      "cell_type": "markdown",
      "metadata": {
        "id": "IzmmMAJlxZRO",
        "colab_type": "text"
      },
      "source": [
        "## **Load Data Set**"
      ]
    },
    {
      "cell_type": "code",
      "metadata": {
        "id": "I7fc0dyZxigq",
        "colab_type": "code",
        "colab": {}
      },
      "source": [
        "df = pd.DataFrame()\n",
        "sf = SFrame(data=df)"
      ],
      "execution_count": 10,
      "outputs": []
    },
    {
      "cell_type": "markdown",
      "metadata": {
        "id": "B7XREwNxy1nq",
        "colab_type": "text"
      },
      "source": [
        "## **Upload Local Server data**"
      ]
    },
    {
      "cell_type": "code",
      "metadata": {
        "id": "ZEOBrIhgylM2",
        "colab_type": "code",
        "colab": {}
      },
      "source": [
        "sf = SFrame(data='/content/sample_data/california_housing_train.csv') #local file path\n",
        "sf.head() #show uppersection data\n",
        "sf.tail() #show lowersection data"
      ],
      "execution_count": null,
      "outputs": []
    },
    {
      "cell_type": "markdown",
      "metadata": {
        "id": "cCST61r30ozX",
        "colab_type": "text"
      },
      "source": [
        "## **Canvas**"
      ]
    },
    {
      "cell_type": "code",
      "metadata": {
        "id": "3RmrCFNh0yPp",
        "colab_type": "code",
        "colab": {}
      },
      "source": [
        "sf.show()  #show data graphicaly [all data]"
      ],
      "execution_count": null,
      "outputs": []
    },
    {
      "cell_type": "code",
      "metadata": {
        "id": "vwpxuAnZ1gUj",
        "colab_type": "code",
        "colab": {}
      },
      "source": [
        "sf['total_rooms'].show() #filter data"
      ],
      "execution_count": null,
      "outputs": []
    },
    {
      "cell_type": "markdown",
      "metadata": {
        "id": "KF3ypUzL3Tk_",
        "colab_type": "text"
      },
      "source": [
        "## **Inspect Columns**"
      ]
    },
    {
      "cell_type": "code",
      "metadata": {
        "id": "RYIAARjI3dIQ",
        "colab_type": "code",
        "colab": {}
      },
      "source": [
        "sf['total_rooms'] #show all data\n",
        "sf['total_rooms'].mean() #show minimum value of that column\n",
        "sf['total_rooms'].max() #show maximum value of that column"
      ],
      "execution_count": null,
      "outputs": []
    },
    {
      "cell_type": "markdown",
      "metadata": {
        "id": "2o0cT82c5PqQ",
        "colab_type": "text"
      },
      "source": [
        "## **Create New Columns**"
      ]
    },
    {
      "cell_type": "code",
      "metadata": {
        "id": "kZl_7X8w5YsH",
        "colab_type": "code",
        "colab": {}
      },
      "source": [
        "sf['new_col'] = sf['longitude'] + sf['latitude'] # add new column and add some value"
      ],
      "execution_count": 21,
      "outputs": []
    }
  ]
}