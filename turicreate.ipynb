{
  "nbformat": 4,
  "nbformat_minor": 0,
  "metadata": {
    "colab": {
      "name": "turicreate.ipynb",
      "provenance": [],
      "authorship_tag": "ABX9TyM0PG8+4X+7ZtAqv2ORuFHD",
      "include_colab_link": true
    },
    "kernelspec": {
      "name": "python3",
      "display_name": "Python 3"
    }
  },
  "cells": [
    {
      "cell_type": "markdown",
      "metadata": {
        "id": "view-in-github",
        "colab_type": "text"
      },
      "source": [
        "<a href=\"https://colab.research.google.com/github/SabiulSabit/Machine-Learning-Foundations-A-Case-Study-Approach/blob/master/turicreate.ipynb\" target=\"_parent\"><img src=\"https://colab.research.google.com/assets/colab-badge.svg\" alt=\"Open In Colab\"/></a>"
      ]
    },
    {
      "cell_type": "markdown",
      "metadata": {
        "id": "OQAPlmwvt2Jp",
        "colab_type": "text"
      },
      "source": [
        "# **Use of Turicreate**\n",
        "\n",
        "---\n",
        "\n"
      ]
    },
    {
      "cell_type": "code",
      "metadata": {
        "id": "Def4qEmlty8n",
        "colab_type": "code",
        "colab": {}
      },
      "source": [
        "!pip install turicreate \n",
        "from turicreate import SFrame"
      ],
      "execution_count": null,
      "outputs": []
    },
    {
      "cell_type": "code",
      "metadata": {
        "id": "DS6cDIZAyK9y",
        "colab_type": "code",
        "colab": {}
      },
      "source": [
        "import pandas as pd"
      ],
      "execution_count": 8,
      "outputs": []
    },
    {
      "cell_type": "markdown",
      "metadata": {
        "id": "IzmmMAJlxZRO",
        "colab_type": "text"
      },
      "source": [
        "## **Load Data Set**"
      ]
    },
    {
      "cell_type": "code",
      "metadata": {
        "id": "I7fc0dyZxigq",
        "colab_type": "code",
        "colab": {}
      },
      "source": [
        "df = pd.DataFrame()\n",
        "sf = SFrame(data=df)"
      ],
      "execution_count": 10,
      "outputs": []
    },
    {
      "cell_type": "markdown",
      "metadata": {
        "id": "B7XREwNxy1nq",
        "colab_type": "text"
      },
      "source": [
        "## **Upload Local Server data**"
      ]
    },
    {
      "cell_type": "code",
      "metadata": {
        "id": "ZEOBrIhgylM2",
        "colab_type": "code",
        "colab": {}
      },
      "source": [
        "sf = SFrame(data='/content/sample_data/california_housing_train.csv') #local file path\n",
        "sf.head() #show uppersection data\n",
        "sf.tail() #show lowersection data"
      ],
      "execution_count": null,
      "outputs": []
    },
    {
      "cell_type": "markdown",
      "metadata": {
        "id": "cCST61r30ozX",
        "colab_type": "text"
      },
      "source": [
        "## **Canvas**"
      ]
    },
    {
      "cell_type": "code",
      "metadata": {
        "id": "3RmrCFNh0yPp",
        "colab_type": "code",
        "colab": {}
      },
      "source": [
        "sf.show()  #show data graphicaly [all data]"
      ],
      "execution_count": null,
      "outputs": []
    },
    {
      "cell_type": "code",
      "metadata": {
        "id": "vwpxuAnZ1gUj",
        "colab_type": "code",
        "colab": {}
      },
      "source": [
        "sf['total_rooms'].show() #filter data"
      ],
      "execution_count": null,
      "outputs": []
    }
  ]
}